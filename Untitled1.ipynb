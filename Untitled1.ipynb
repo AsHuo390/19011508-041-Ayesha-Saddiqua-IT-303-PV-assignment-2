{
  "nbformat": 4,
  "nbformat_minor": 0,
  "metadata": {
    "colab": {
      "name": "Untitled1.ipynb",
      "provenance": [],
      "collapsed_sections": [],
      "authorship_tag": "ABX9TyNpWk+xH6ellSvn58occbpW",
      "include_colab_link": true
    },
    "kernelspec": {
      "name": "python3",
      "display_name": "Python 3"
    },
    "language_info": {
      "name": "python"
    }
  },
  "cells": [
    {
      "cell_type": "markdown",
      "metadata": {
        "id": "view-in-github",
        "colab_type": "text"
      },
      "source": [
        "<a href=\"https://colab.research.google.com/github/AsHuo390/19011508-041-Ayesha-Saddiqua-IT-303-PV-assignment-2/blob/main/Untitled1.ipynb\" target=\"_parent\"><img src=\"https://colab.research.google.com/assets/colab-badge.svg\" alt=\"Open In Colab\"/></a>"
      ]
    },
    {
      "cell_type": "code",
      "metadata": {
        "id": "CecR5iHfoDiG",
        "colab": {
          "base_uri": "https://localhost:8080/"
        },
        "outputId": "de645a90-c992-4b08-f9be-8bdcd134f2d9"
      },
      "source": [
        " \n",
        "from math import pi\n",
        "ashuo = float (input(\"enter the radius of a circle\"))\n",
        "print(\"the area of circle is\" +str (ashuo) + \"is:\"+str (pi*ashuo**2))"
      ],
      "execution_count": null,
      "outputs": [
        {
          "output_type": "stream",
          "text": [
            "enter the radius of a circle6\n",
            "the area of circle is6.0is:113.09733552923255\n"
          ],
          "name": "stdout"
        }
      ]
    },
    {
      "cell_type": "code",
      "metadata": {
        "colab": {
          "base_uri": "https://localhost:8080/"
        },
        "id": "9VU00ZG14tZT",
        "outputId": "17175b12-0150-4ada-b878-34da514250ad"
      },
      "source": [
        " \n",
        "def l(u):\n",
        "  if len(u) == len(set (u)):\n",
        "    return True \n",
        "  else:\n",
        "    return False;\n",
        "print(l([7,8,9]))\n",
        "print(l([5]))"
      ],
      "execution_count": null,
      "outputs": [
        {
          "output_type": "stream",
          "text": [
            "True\n",
            "True\n"
          ],
          "name": "stdout"
        }
      ]
    },
    {
      "cell_type": "code",
      "metadata": {
        "colab": {
          "base_uri": "https://localhost:8080/"
        },
        "id": "a_fKLLFA5Oj7",
        "outputId": "fb0cc34e-df31-4326-aab5-e7ce9bb66386"
      },
      "source": [
        " \n",
        "def remove_ashuo(int_list):\n",
        "  #list starts with 0 index\n",
        "  position = 3- 0\n",
        "  idx = 0\n",
        "  len_list = (len(int_list))\n",
        "  while len_list>0:\n",
        "    idx = (position+idx)%len_list\n",
        "    print(int_list.pop(idx))\n",
        "    len_list -= 1\n",
        "ashuo= [10,60,90,67,76,77,89,78]\n",
        "remove_ashuo(ashuo)"
      ],
      "execution_count": null,
      "outputs": [
        {
          "output_type": "stream",
          "text": [
            "67\n",
            "78\n",
            "76\n",
            "60\n",
            "10\n",
            "90\n",
            "89\n",
            "77\n"
          ],
          "name": "stdout"
        }
      ]
    },
    {
      "cell_type": "markdown",
      "metadata": {
        "id": "J7t3FloX5dsW"
      },
      "source": [
        ""
      ]
    },
    {
      "cell_type": "code",
      "metadata": {
        "id": "2BPqvWd7Q-8Q"
      },
      "source": [
        "ashu= input(\"enter nmbrs with coma\")\n",
        "list = ashu.split (\",\")\n",
        "tuple = tuple(list)\n",
        "print('A:', list)\n",
        "print('B:', tuple)"
      ],
      "execution_count": null,
      "outputs": []
    }
  ]
}